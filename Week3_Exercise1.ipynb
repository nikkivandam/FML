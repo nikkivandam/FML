{
 "cells": [
  {
   "cell_type": "code",
   "execution_count": 18,
   "metadata": {},
   "outputs": [
    {
     "data": {
      "text/html": [
       "<div>\n",
       "<style scoped>\n",
       "    .dataframe tbody tr th:only-of-type {\n",
       "        vertical-align: middle;\n",
       "    }\n",
       "\n",
       "    .dataframe tbody tr th {\n",
       "        vertical-align: top;\n",
       "    }\n",
       "\n",
       "    .dataframe thead th {\n",
       "        text-align: right;\n",
       "    }\n",
       "</style>\n",
       "<table border=\"1\" class=\"dataframe\">\n",
       "  <thead>\n",
       "    <tr style=\"text-align: right;\">\n",
       "      <th></th>\n",
       "      <th>Unnamed: 0</th>\n",
       "      <th>address</th>\n",
       "      <th>area</th>\n",
       "      <th>bedrooms</th>\n",
       "      <th>postal_code</th>\n",
       "      <th>posting_date</th>\n",
       "      <th>price</th>\n",
       "      <th>property_type</th>\n",
       "      <th>rooms</th>\n",
       "      <th>sale_date</th>\n",
       "      <th>url</th>\n",
       "      <th>year_built</th>\n",
       "    </tr>\n",
       "  </thead>\n",
       "  <tbody>\n",
       "    <tr>\n",
       "      <td>0</td>\n",
       "      <td>0</td>\n",
       "      <td>Knollendamstraat 4 III/IV</td>\n",
       "      <td>108</td>\n",
       "      <td>2</td>\n",
       "      <td>1013 TN</td>\n",
       "      <td>4-6-2016</td>\n",
       "      <td>510000</td>\n",
       "      <td>apartment</td>\n",
       "      <td>3</td>\n",
       "      <td>23-6-2016</td>\n",
       "      <td>http://www.funda.nl/koop/verkocht/amsterdam/ap...</td>\n",
       "      <td>1906</td>\n",
       "    </tr>\n",
       "    <tr>\n",
       "      <td>1</td>\n",
       "      <td>1</td>\n",
       "      <td>Moerdijkstraat 47 1</td>\n",
       "      <td>47</td>\n",
       "      <td>1</td>\n",
       "      <td>1079 XM</td>\n",
       "      <td>22-6-2016</td>\n",
       "      <td>215000</td>\n",
       "      <td>apartment</td>\n",
       "      <td>2</td>\n",
       "      <td>5-7-2016</td>\n",
       "      <td>http://www.funda.nl/koop/verkocht/amsterdam/ap...</td>\n",
       "      <td>1938</td>\n",
       "    </tr>\n",
       "    <tr>\n",
       "      <td>2</td>\n",
       "      <td>2</td>\n",
       "      <td>Zeeburgerdijk 349</td>\n",
       "      <td>116</td>\n",
       "      <td>2</td>\n",
       "      <td>1095 AD</td>\n",
       "      <td>9-6-2016</td>\n",
       "      <td>325000</td>\n",
       "      <td>apartment</td>\n",
       "      <td>3</td>\n",
       "      <td>8-7-2016</td>\n",
       "      <td>http://www.funda.nl/koop/verkocht/amsterdam/ap...</td>\n",
       "      <td>2003</td>\n",
       "    </tr>\n",
       "    <tr>\n",
       "      <td>3</td>\n",
       "      <td>3</td>\n",
       "      <td>Brederodestraat 124 -1</td>\n",
       "      <td>58</td>\n",
       "      <td>2</td>\n",
       "      <td>1054 VH</td>\n",
       "      <td>14-5-2016</td>\n",
       "      <td>315000</td>\n",
       "      <td>apartment</td>\n",
       "      <td>3</td>\n",
       "      <td>2-6-2016</td>\n",
       "      <td>http://www.funda.nl/koop/verkocht/amsterdam/ap...</td>\n",
       "      <td>1910</td>\n",
       "    </tr>\n",
       "    <tr>\n",
       "      <td>4</td>\n",
       "      <td>4</td>\n",
       "      <td>Admiraal De Ruijterweg 409 III</td>\n",
       "      <td>63</td>\n",
       "      <td>1</td>\n",
       "      <td>1055 MD</td>\n",
       "      <td>14-6-2016</td>\n",
       "      <td>200000</td>\n",
       "      <td>apartment</td>\n",
       "      <td>3</td>\n",
       "      <td>23-6-2016</td>\n",
       "      <td>http://www.funda.nl/koop/verkocht/amsterdam/ap...</td>\n",
       "      <td>1906</td>\n",
       "    </tr>\n",
       "  </tbody>\n",
       "</table>\n",
       "</div>"
      ],
      "text/plain": [
       "   Unnamed: 0                         address  area  bedrooms postal_code  \\\n",
       "0           0       Knollendamstraat 4 III/IV   108         2     1013 TN   \n",
       "1           1             Moerdijkstraat 47 1    47         1     1079 XM   \n",
       "2           2               Zeeburgerdijk 349   116         2     1095 AD   \n",
       "3           3          Brederodestraat 124 -1    58         2     1054 VH   \n",
       "4           4  Admiraal De Ruijterweg 409 III    63         1     1055 MD   \n",
       "\n",
       "  posting_date   price property_type  rooms  sale_date  \\\n",
       "0     4-6-2016  510000     apartment      3  23-6-2016   \n",
       "1    22-6-2016  215000     apartment      2   5-7-2016   \n",
       "2     9-6-2016  325000     apartment      3   8-7-2016   \n",
       "3    14-5-2016  315000     apartment      3   2-6-2016   \n",
       "4    14-6-2016  200000     apartment      3  23-6-2016   \n",
       "\n",
       "                                                 url  year_built  \n",
       "0  http://www.funda.nl/koop/verkocht/amsterdam/ap...        1906  \n",
       "1  http://www.funda.nl/koop/verkocht/amsterdam/ap...        1938  \n",
       "2  http://www.funda.nl/koop/verkocht/amsterdam/ap...        2003  \n",
       "3  http://www.funda.nl/koop/verkocht/amsterdam/ap...        1910  \n",
       "4  http://www.funda.nl/koop/verkocht/amsterdam/ap...        1906  "
      ]
     },
     "execution_count": 18,
     "metadata": {},
     "output_type": "execute_result"
    }
   ],
   "source": [
    "import seaborn as sns #this is the plotting library I'll be using \n",
    "import pandas as pd #\"as pd\" means that we can use the abbreviation in commands\n",
    "import matplotlib.pyplot as plt #we need Matplotlib for setting the labels in the Seaborn graphs\n",
    "import sklearn as sk\n",
    "\n",
    "df = pd.read_csv(\"funda-amsterdam.csv\")\n",
    "df = df.dropna(how='all')\n",
    "df.head()"
   ]
  },
  {
   "cell_type": "code",
   "execution_count": 13,
   "metadata": {},
   "outputs": [
    {
     "data": {
      "image/png": "[encoded data removed]",
      "text/plain": [
       "<Figure size 432x288 with 1 Axes>"
      ]
     },
     "metadata": {
      "needs_background": "light"
     },
     "output_type": "display_data"
    }
   ],
   "source": [
    "sns.distplot(df['price'].dropna(), kde=False, color=\"c\") \n",
    "plt.title('Prices of housing in Amsterdam on Funda')\n",
    "plt.xlabel('Price in euros')\n",
    "plt.show()"
   ]
  },
  {
   "cell_type": "code",
   "execution_count": 14,
   "metadata": {},
   "outputs": [
    {
     "data": {
      "image/png": "[encoded data removed]",
      "text/plain": [
       "<Figure size 432x288 with 1 Axes>"
      ]
     },
     "metadata": {
      "needs_background": "light"
     },
     "output_type": "display_data"
    }
   ],
   "source": [
    "def under_20000(x):\n",
    "    if(x < 20000): \n",
    "        return float('NaN')\n",
    "    else: \n",
    "        return x\n",
    "df['price'] = df['price'].apply(under_20000)\n",
    "\n",
    "sns.distplot(df['price'].dropna(), kde=False, color=\"c\") \n",
    "plt.title('Prices of housing in Amsterdam on Funda')\n",
    "plt.xlabel('Price in euros')\n",
    "plt.show()"
   ]
  },
  {
   "cell_type": "markdown",
   "metadata": {},
   "source": [
    "To see if there is a linear regression between price and surface area, I'm taking surface area as the independent variable (X) and price as the dependent variabe (Y). Because surface is more likely to be the cause of a higher price = price is dependent from the surface area. We're going to plot both variables. "
   ]
  },
  {
   "cell_type": "code",
   "execution_count": 15,
   "metadata": {},
   "outputs": [
    {
     "data": {
      "image/png": "[encoded data removed]",
      "text/plain": [
       "<Figure size 360x360 with 1 Axes>"
      ]
     },
     "metadata": {
      "needs_background": "light"
     },
     "output_type": "display_data"
    }
   ],
   "source": [
    "sns.lmplot(x='area', y='price', fit_reg=False, data=df, ) #fit_reg=False leaves out the regression line; see below\n",
    "plt.xlabel('Surface area ')\n",
    "plt.ylabel('Price in euros')\n",
    "plt.title('Visualisation of houses in Amsterdam on Funda')\n",
    "plt.show()"
   ]
  },
  {
   "cell_type": "code",
   "execution_count": 16,
   "metadata": {},
   "outputs": [
    {
     "data": {
      "image/png": "[encoded data removed]",
      "text/plain": [
       "<Figure size 360x360 with 1 Axes>"
      ]
     },
     "metadata": {
      "needs_background": "light"
     },
     "output_type": "display_data"
    }
   ],
   "source": [
    "sns.lmplot(x='area', y='price', data=df, ci=False) \n",
    "plt.xlabel('Surface area ')\n",
    "plt.ylabel('Price in euros')\n",
    "plt.title('Visualisation of houses in Amsterdam on Funda')\n",
    "plt.show()"
   ]
  },
  {
   "cell_type": "markdown",
   "metadata": {},
   "source": [
    "There are a few things to note here:\n",
    "\n",
    "- First, the data seem to fit a linear pattern: you can draw a straight line to fit the points\n",
    "- However, there is quite a bit of variation around this line. Some points will be above it, some below. \n",
    "- The prices are quit variationate."
   ]
  },
  {
   "cell_type": "code",
   "execution_count": 20,
   "metadata": {},
   "outputs": [
    {
     "name": "stdout",
     "output_type": "stream",
     "text": [
      "The regression line is equal to y = 207124.91 + 1139.56X\n"
     ]
    }
   ],
   "source": [
    "from sklearn.linear_model import LinearRegression \n",
    "\n",
    "x = df[['area']] \n",
    "y = df['price']\n",
    "lm = LinearRegression() \n",
    "lm.fit(x, y) \n",
    "\n",
    "b0 = lm.intercept_ \n",
    "b1 = lm.coef_[0]\n",
    "\n",
    "print(f\"The regression line is equal to y = {b0:.2f} + {b1:.2f}X\") "
   ]
  },
  {
   "cell_type": "markdown",
   "metadata": {},
   "source": [
    "$ y = 207124.91 + 1139.56X $\n",
    "\n",
    "Where *y* is surface area and *x* is price in euros."
   ]
  },
  {
   "cell_type": "markdown",
   "metadata": {},
   "source": [
    "Now we have a linear model for the relation, using sk-learn. We can predict what the price will be for a house of 70 m2.  "
   ]
  },
  {
   "cell_type": "code",
   "execution_count": 37,
   "metadata": {},
   "outputs": [
    {
     "name": "stdout",
     "output_type": "stream",
     "text": [
      "The predicted price is equal to [286894.17672918] euros\n"
     ]
    }
   ],
   "source": [
    "lm.predict([[70]])\n",
    "print(f\"The predicted price is equal to {lm.predict([[70]])} euros\")"
   ]
  },
  {
   "cell_type": "code",
   "execution_count": 35,
   "metadata": {},
   "outputs": [
    {
     "data": {
      "text/html": [
       "<div>\n",
       "<style scoped>\n",
       "    .dataframe tbody tr th:only-of-type {\n",
       "        vertical-align: middle;\n",
       "    }\n",
       "\n",
       "    .dataframe tbody tr th {\n",
       "        vertical-align: top;\n",
       "    }\n",
       "\n",
       "    .dataframe thead th {\n",
       "        text-align: right;\n",
       "    }\n",
       "</style>\n",
       "<table border=\"1\" class=\"dataframe\">\n",
       "  <thead>\n",
       "    <tr style=\"text-align: right;\">\n",
       "      <th></th>\n",
       "      <th>Unnamed: 0</th>\n",
       "      <th>address</th>\n",
       "      <th>area</th>\n",
       "      <th>bedrooms</th>\n",
       "      <th>postal_code</th>\n",
       "      <th>posting_date</th>\n",
       "      <th>price</th>\n",
       "      <th>property_type</th>\n",
       "      <th>rooms</th>\n",
       "      <th>sale_date</th>\n",
       "      <th>url</th>\n",
       "      <th>year_built</th>\n",
       "      <th>price_p</th>\n",
       "    </tr>\n",
       "  </thead>\n",
       "  <tbody>\n",
       "    <tr>\n",
       "      <td>0</td>\n",
       "      <td>0</td>\n",
       "      <td>Knollendamstraat 4 III/IV</td>\n",
       "      <td>108</td>\n",
       "      <td>2</td>\n",
       "      <td>1013 TN</td>\n",
       "      <td>4-6-2016</td>\n",
       "      <td>330197.492903</td>\n",
       "      <td>apartment</td>\n",
       "      <td>3</td>\n",
       "      <td>23-6-2016</td>\n",
       "      <td>http://www.funda.nl/koop/verkocht/amsterdam/ap...</td>\n",
       "      <td>1906</td>\n",
       "      <td>330197.492903</td>\n",
       "    </tr>\n",
       "    <tr>\n",
       "      <td>1</td>\n",
       "      <td>1</td>\n",
       "      <td>Moerdijkstraat 47 1</td>\n",
       "      <td>47</td>\n",
       "      <td>1</td>\n",
       "      <td>1079 XM</td>\n",
       "      <td>22-6-2016</td>\n",
       "      <td>260684.274834</td>\n",
       "      <td>apartment</td>\n",
       "      <td>2</td>\n",
       "      <td>5-7-2016</td>\n",
       "      <td>http://www.funda.nl/koop/verkocht/amsterdam/ap...</td>\n",
       "      <td>1938</td>\n",
       "      <td>260684.274834</td>\n",
       "    </tr>\n",
       "    <tr>\n",
       "      <td>2</td>\n",
       "      <td>2</td>\n",
       "      <td>Zeeburgerdijk 349</td>\n",
       "      <td>116</td>\n",
       "      <td>2</td>\n",
       "      <td>1095 AD</td>\n",
       "      <td>9-6-2016</td>\n",
       "      <td>339313.980519</td>\n",
       "      <td>apartment</td>\n",
       "      <td>3</td>\n",
       "      <td>8-7-2016</td>\n",
       "      <td>http://www.funda.nl/koop/verkocht/amsterdam/ap...</td>\n",
       "      <td>2003</td>\n",
       "      <td>339313.980519</td>\n",
       "    </tr>\n",
       "    <tr>\n",
       "      <td>3</td>\n",
       "      <td>3</td>\n",
       "      <td>Brederodestraat 124 -1</td>\n",
       "      <td>58</td>\n",
       "      <td>2</td>\n",
       "      <td>1054 VH</td>\n",
       "      <td>14-5-2016</td>\n",
       "      <td>273219.445306</td>\n",
       "      <td>apartment</td>\n",
       "      <td>3</td>\n",
       "      <td>2-6-2016</td>\n",
       "      <td>http://www.funda.nl/koop/verkocht/amsterdam/ap...</td>\n",
       "      <td>1910</td>\n",
       "      <td>273219.445306</td>\n",
       "    </tr>\n",
       "    <tr>\n",
       "      <td>4</td>\n",
       "      <td>4</td>\n",
       "      <td>Admiraal De Ruijterweg 409 III</td>\n",
       "      <td>63</td>\n",
       "      <td>1</td>\n",
       "      <td>1055 MD</td>\n",
       "      <td>14-6-2016</td>\n",
       "      <td>278917.250066</td>\n",
       "      <td>apartment</td>\n",
       "      <td>3</td>\n",
       "      <td>23-6-2016</td>\n",
       "      <td>http://www.funda.nl/koop/verkocht/amsterdam/ap...</td>\n",
       "      <td>1906</td>\n",
       "      <td>278917.250066</td>\n",
       "    </tr>\n",
       "    <tr>\n",
       "      <td>5</td>\n",
       "      <td>5</td>\n",
       "      <td>Bertrand Russellstraat 46</td>\n",
       "      <td>125</td>\n",
       "      <td>2</td>\n",
       "      <td>1097 HL</td>\n",
       "      <td>20-5-2016</td>\n",
       "      <td>349570.029086</td>\n",
       "      <td>apartment</td>\n",
       "      <td>3</td>\n",
       "      <td>9-6-2016</td>\n",
       "      <td>http://www.funda.nl/koop/verkocht/amsterdam/ap...</td>\n",
       "      <td>1991</td>\n",
       "      <td>349570.029086</td>\n",
       "    </tr>\n",
       "    <tr>\n",
       "      <td>6</td>\n",
       "      <td>6</td>\n",
       "      <td>Admiraal De Ruijterweg 417 I</td>\n",
       "      <td>64</td>\n",
       "      <td>3</td>\n",
       "      <td>1055 ME</td>\n",
       "      <td>14-6-2016</td>\n",
       "      <td>280056.811018</td>\n",
       "      <td>apartment</td>\n",
       "      <td>4</td>\n",
       "      <td>23-6-2016</td>\n",
       "      <td>http://www.funda.nl/koop/verkocht/amsterdam/ap...</td>\n",
       "      <td>1906</td>\n",
       "      <td>280056.811018</td>\n",
       "    </tr>\n",
       "    <tr>\n",
       "      <td>7</td>\n",
       "      <td>7</td>\n",
       "      <td>Deltastraat 10 -boven</td>\n",
       "      <td>155</td>\n",
       "      <td>3</td>\n",
       "      <td>1078 PC</td>\n",
       "      <td>24-5-2016</td>\n",
       "      <td>383756.857644</td>\n",
       "      <td>apartment</td>\n",
       "      <td>5</td>\n",
       "      <td>9-6-2016</td>\n",
       "      <td>http://www.funda.nl/koop/verkocht/amsterdam/ap...</td>\n",
       "      <td>1906</td>\n",
       "      <td>383756.857644</td>\n",
       "    </tr>\n",
       "    <tr>\n",
       "      <td>8</td>\n",
       "      <td>8</td>\n",
       "      <td>Ben van Meerendonkstraat 49</td>\n",
       "      <td>85</td>\n",
       "      <td>2</td>\n",
       "      <td>1087 LB</td>\n",
       "      <td>21-5-2016</td>\n",
       "      <td>303987.591008</td>\n",
       "      <td>apartment</td>\n",
       "      <td>3</td>\n",
       "      <td>10-6-2016</td>\n",
       "      <td>http://www.funda.nl/koop/verkocht/amsterdam/ap...</td>\n",
       "      <td>2007</td>\n",
       "      <td>303987.591008</td>\n",
       "    </tr>\n",
       "    <tr>\n",
       "      <td>9</td>\n",
       "      <td>9</td>\n",
       "      <td>Jacob van Lennepstraat 263 B</td>\n",
       "      <td>67</td>\n",
       "      <td>2</td>\n",
       "      <td>1053 JE</td>\n",
       "      <td>13-5-2016</td>\n",
       "      <td>283475.493873</td>\n",
       "      <td>apartment</td>\n",
       "      <td>3</td>\n",
       "      <td>27-5-2016</td>\n",
       "      <td>http://www.funda.nl/koop/verkocht/amsterdam/ap...</td>\n",
       "      <td>1900</td>\n",
       "      <td>283475.493873</td>\n",
       "    </tr>\n",
       "  </tbody>\n",
       "</table>\n",
       "</div>"
      ],
      "text/plain": [
       "   Unnamed: 0                         address  area  bedrooms postal_code  \\\n",
       "0           0       Knollendamstraat 4 III/IV   108         2     1013 TN   \n",
       "1           1             Moerdijkstraat 47 1    47         1     1079 XM   \n",
       "2           2               Zeeburgerdijk 349   116         2     1095 AD   \n",
       "3           3          Brederodestraat 124 -1    58         2     1054 VH   \n",
       "4           4  Admiraal De Ruijterweg 409 III    63         1     1055 MD   \n",
       "5           5       Bertrand Russellstraat 46   125         2     1097 HL   \n",
       "6           6    Admiraal De Ruijterweg 417 I    64         3     1055 ME   \n",
       "7           7           Deltastraat 10 -boven   155         3     1078 PC   \n",
       "8           8     Ben van Meerendonkstraat 49    85         2     1087 LB   \n",
       "9           9    Jacob van Lennepstraat 263 B    67         2     1053 JE   \n",
       "\n",
       "  posting_date          price property_type  rooms  sale_date  \\\n",
       "0     4-6-2016  330197.492903     apartment      3  23-6-2016   \n",
       "1    22-6-2016  260684.274834     apartment      2   5-7-2016   \n",
       "2     9-6-2016  339313.980519     apartment      3   8-7-2016   \n",
       "3    14-5-2016  273219.445306     apartment      3   2-6-2016   \n",
       "4    14-6-2016  278917.250066     apartment      3  23-6-2016   \n",
       "5    20-5-2016  349570.029086     apartment      3   9-6-2016   \n",
       "6    14-6-2016  280056.811018     apartment      4  23-6-2016   \n",
       "7    24-5-2016  383756.857644     apartment      5   9-6-2016   \n",
       "8    21-5-2016  303987.591008     apartment      3  10-6-2016   \n",
       "9    13-5-2016  283475.493873     apartment      3  27-5-2016   \n",
       "\n",
       "                                                 url  year_built  \\\n",
       "0  http://www.funda.nl/koop/verkocht/amsterdam/ap...        1906   \n",
       "1  http://www.funda.nl/koop/verkocht/amsterdam/ap...        1938   \n",
       "2  http://www.funda.nl/koop/verkocht/amsterdam/ap...        2003   \n",
       "3  http://www.funda.nl/koop/verkocht/amsterdam/ap...        1910   \n",
       "4  http://www.funda.nl/koop/verkocht/amsterdam/ap...        1906   \n",
       "5  http://www.funda.nl/koop/verkocht/amsterdam/ap...        1991   \n",
       "6  http://www.funda.nl/koop/verkocht/amsterdam/ap...        1906   \n",
       "7  http://www.funda.nl/koop/verkocht/amsterdam/ap...        1906   \n",
       "8  http://www.funda.nl/koop/verkocht/amsterdam/ap...        2007   \n",
       "9  http://www.funda.nl/koop/verkocht/amsterdam/ap...        1900   \n",
       "\n",
       "         price_p  \n",
       "0  330197.492903  \n",
       "1  260684.274834  \n",
       "2  339313.980519  \n",
       "3  273219.445306  \n",
       "4  278917.250066  \n",
       "5  349570.029086  \n",
       "6  280056.811018  \n",
       "7  383756.857644  \n",
       "8  303987.591008  \n",
       "9  283475.493873  "
      ]
     },
     "execution_count": 35,
     "metadata": {},
     "output_type": "execute_result"
    }
   ],
   "source": [
    "df['price_p'] = lm.predict(x) \n",
    "df.head(10)"
   ]
  },
  {
   "cell_type": "code",
   "execution_count": 38,
   "metadata": {},
   "outputs": [
    {
     "data": {
      "text/html": [
       "<div>\n",
       "<style scoped>\n",
       "    .dataframe tbody tr th:only-of-type {\n",
       "        vertical-align: middle;\n",
       "    }\n",
       "\n",
       "    .dataframe tbody tr th {\n",
       "        vertical-align: top;\n",
       "    }\n",
       "\n",
       "    .dataframe thead th {\n",
       "        text-align: right;\n",
       "    }\n",
       "</style>\n",
       "<table border=\"1\" class=\"dataframe\">\n",
       "  <thead>\n",
       "    <tr style=\"text-align: right;\">\n",
       "      <th></th>\n",
       "      <th>Unnamed: 0</th>\n",
       "      <th>address</th>\n",
       "      <th>area</th>\n",
       "      <th>bedrooms</th>\n",
       "      <th>postal_code</th>\n",
       "      <th>posting_date</th>\n",
       "      <th>price</th>\n",
       "      <th>property_type</th>\n",
       "      <th>rooms</th>\n",
       "      <th>sale_date</th>\n",
       "      <th>url</th>\n",
       "      <th>year_built</th>\n",
       "      <th>price_p</th>\n",
       "    </tr>\n",
       "  </thead>\n",
       "  <tbody>\n",
       "    <tr>\n",
       "      <td>21</td>\n",
       "      <td>21</td>\n",
       "      <td>Slichtenhorststraat 10</td>\n",
       "      <td>114</td>\n",
       "      <td>3</td>\n",
       "      <td>1107 VH</td>\n",
       "      <td>18-9-2015</td>\n",
       "      <td>337034.858615</td>\n",
       "      <td>house</td>\n",
       "      <td>4</td>\n",
       "      <td>3-5-2016</td>\n",
       "      <td>http://www.funda.nl/koop/verkocht/amsterdam/hu...</td>\n",
       "      <td>1983</td>\n",
       "      <td>337034.858615</td>\n",
       "    </tr>\n",
       "  </tbody>\n",
       "</table>\n",
       "</div>"
      ],
      "text/plain": [
       "    Unnamed: 0                 address  area  bedrooms postal_code  \\\n",
       "21          21  Slichtenhorststraat 10   114         3     1107 VH   \n",
       "\n",
       "   posting_date          price property_type  rooms sale_date  \\\n",
       "21    18-9-2015  337034.858615         house      4  3-5-2016   \n",
       "\n",
       "                                                  url  year_built  \\\n",
       "21  http://www.funda.nl/koop/verkocht/amsterdam/hu...        1983   \n",
       "\n",
       "          price_p  \n",
       "21  337034.858615  "
      ]
     },
     "execution_count": 38,
     "metadata": {},
     "output_type": "execute_result"
    }
   ],
   "source": [
    "house = df[df['address'] == 'Slichtenhorststraat 10']\n",
    "house.head()"
   ]
  },
  {
   "cell_type": "code",
   "execution_count": 39,
   "metadata": {},
   "outputs": [],
   "source": [
    "residual = house['price'] - house['price_p']"
   ]
  },
  {
   "cell_type": "code",
   "execution_count": null,
   "metadata": {},
   "outputs": [],
   "source": []
  }
 ],
 "metadata": {
  "kernelspec": {
   "display_name": "Python 3",
   "language": "python",
   "name": "python3"
  },
  "language_info": {
   "codemirror_mode": {
    "name": "ipython",
    "version": 3
   },
   "file_extension": ".py",
   "mimetype": "text/x-python",
   "name": "python",
   "nbconvert_exporter": "python",
   "pygments_lexer": "ipython3",
   "version": "3.7.3"
  }
 },
 "nbformat": 4,
 "nbformat_minor": 2
}
